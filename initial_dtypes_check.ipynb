{
 "cells": [
  {
   "cell_type": "code",
   "execution_count": 1,
   "metadata": {},
   "outputs": [],
   "source": [
    "# Dependencies\n",
    "import pandas as pd"
   ]
  },
  {
   "cell_type": "code",
   "execution_count": 2,
   "metadata": {},
   "outputs": [
    {
     "data": {
      "text/plain": [
       "This list of contacts was updated on 11/10/2020.    object\n",
       "dtype: object"
      ]
     },
     "execution_count": 2,
     "metadata": {},
     "output_type": "execute_result"
    }
   ],
   "source": [
    "# Check datatypes of contacts.xlsx\n",
    "contacts_df = pd.read_excel(\"Resources/contacts.xlsx\", engine=\"openpyxl\")\n",
    "contacts_df.dtypes"
   ]
  },
  {
   "cell_type": "code",
   "execution_count": 3,
   "metadata": {},
   "outputs": [
    {
     "data": {
      "text/plain": [
       "cf_id                       int64\n",
       "contact_id                  int64\n",
       "company_name               object\n",
       "blurb                      object\n",
       "goal                        int64\n",
       "pledged                     int64\n",
       "outcome                    object\n",
       "backers_count               int64\n",
       "country                    object\n",
       "currency                   object\n",
       "launched_at                 int64\n",
       "deadline                    int64\n",
       "staff_pick                   bool\n",
       "spotlight                    bool\n",
       "category & sub-category    object\n",
       "dtype: object"
      ]
     },
     "execution_count": 3,
     "metadata": {},
     "output_type": "execute_result"
    }
   ],
   "source": [
    "# Check datatypes of crowdfunding.xlsx\n",
    "crowdfunding_df = pd.read_excel(\"Resources/crowdfunding.xlsx\", engine=\"openpyxl\")\n",
    "crowdfunding_df.dtypes"
   ]
  }
 ],
 "metadata": {
  "kernelspec": {
   "display_name": "base",
   "language": "python",
   "name": "python3"
  },
  "language_info": {
   "codemirror_mode": {
    "name": "ipython",
    "version": 3
   },
   "file_extension": ".py",
   "mimetype": "text/x-python",
   "name": "python",
   "nbconvert_exporter": "python",
   "pygments_lexer": "ipython3",
   "version": "3.9.13"
  },
  "orig_nbformat": 4
 },
 "nbformat": 4,
 "nbformat_minor": 2
}
